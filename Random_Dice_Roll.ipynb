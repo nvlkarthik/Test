{
  "cells": [
    {
      "cell_type": "markdown",
      "metadata": {
        "id": "view-in-github",
        "colab_type": "text"
      },
      "source": [
        "<a href=\"https://colab.research.google.com/github/nvlkarthik/Test/blob/main/Random_Dice_Roll.ipynb\" target=\"_parent\"><img src=\"https://colab.research.google.com/assets/colab-badge.svg\" alt=\"Open In Colab\"/></a>"
      ]
    },
    {
      "cell_type": "code",
      "source": [
        "import random\n",
        "\n",
        "\"\"\"\n",
        "Randomly returns two numbers between 1 and 6\n",
        "\"\"\"\n",
        "\n",
        "# Generate two random integers between 1 and 6 (inclusive)\n",
        "die1 = random.randint(1, 6)\n",
        "die2 = random.randint(1, 6)\n",
        "\n",
        "# Tell the user what the result was\n",
        "print(f\"You rolled a {die1} and a {die2} (total {die1 + die2})\")"
      ],
      "outputs": [
        {
          "output_type": "stream",
          "name": "stdout",
          "text": [
            "You rolled a 1 and a 5 (total 6)\n"
          ]
        }
      ],
      "execution_count": 4,
      "metadata": {
        "colab": {
          "base_uri": "https://localhost:8080/"
        },
        "id": "7iuNQmlyzyHg",
        "outputId": "fc6a2367-9b39-4695-9335-dc99d6712832"
      }
    }
  ],
  "metadata": {
    "colab": {
      "provenance": [],
      "include_colab_link": true
    },
    "kernelspec": {
      "display_name": "Python 3",
      "name": "python3"
    }
  },
  "nbformat": 4,
  "nbformat_minor": 0
}